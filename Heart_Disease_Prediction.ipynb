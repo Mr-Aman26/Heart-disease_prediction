{
 "cells": [
  {
   "cell_type": "markdown",
   "id": "4647c2ef",
   "metadata": {},
   "source": [
    "# Heart Disease Prediction"
   ]
  },
  {
   "cell_type": "markdown",
   "id": "17b0b38d",
   "metadata": {},
   "source": [
    "### Importing libraries"
   ]
  },
  {
   "cell_type": "code",
   "execution_count": 59,
   "id": "06147874",
   "metadata": {},
   "outputs": [],
   "source": [
    "import numpy as np\n",
    "import pandas as pd\n",
    "import matplotlib.pyplot as plt\n",
    "import seaborn as sns\n",
    "from sklearn.metrics import accuracy_score\n",
    "from sklearn.model_selection import train_test_split\n",
    "import warnings\n",
    "warnings.filterwarnings('ignore')"
   ]
  },
  {
   "cell_type": "markdown",
   "id": "758a4d10",
   "metadata": {},
   "source": [
    "### Importing Our Dataset"
   ]
  },
  {
   "cell_type": "code",
   "execution_count": 3,
   "id": "411aab67",
   "metadata": {},
   "outputs": [],
   "source": [
    "dataset = pd.read_csv(\"heart.csv\")"
   ]
  },
  {
   "cell_type": "markdown",
   "id": "76e97f1f",
   "metadata": {},
   "source": [
    "### Understanding our dataset"
   ]
  },
  {
   "cell_type": "code",
   "execution_count": 4,
   "id": "edc1c4bd",
   "metadata": {},
   "outputs": [
    {
     "data": {
      "text/html": [
       "<div>\n",
       "<style scoped>\n",
       "    .dataframe tbody tr th:only-of-type {\n",
       "        vertical-align: middle;\n",
       "    }\n",
       "\n",
       "    .dataframe tbody tr th {\n",
       "        vertical-align: top;\n",
       "    }\n",
       "\n",
       "    .dataframe thead th {\n",
       "        text-align: right;\n",
       "    }\n",
       "</style>\n",
       "<table border=\"1\" class=\"dataframe\">\n",
       "  <thead>\n",
       "    <tr style=\"text-align: right;\">\n",
       "      <th></th>\n",
       "      <th>age</th>\n",
       "      <th>sex</th>\n",
       "      <th>cp</th>\n",
       "      <th>trestbps</th>\n",
       "      <th>chol</th>\n",
       "      <th>fbs</th>\n",
       "      <th>restecg</th>\n",
       "      <th>thalach</th>\n",
       "      <th>exang</th>\n",
       "      <th>oldpeak</th>\n",
       "      <th>slope</th>\n",
       "      <th>ca</th>\n",
       "      <th>thal</th>\n",
       "      <th>target</th>\n",
       "    </tr>\n",
       "  </thead>\n",
       "  <tbody>\n",
       "    <tr>\n",
       "      <th>0</th>\n",
       "      <td>63</td>\n",
       "      <td>1</td>\n",
       "      <td>3</td>\n",
       "      <td>145</td>\n",
       "      <td>233</td>\n",
       "      <td>1</td>\n",
       "      <td>0</td>\n",
       "      <td>150</td>\n",
       "      <td>0</td>\n",
       "      <td>2.3</td>\n",
       "      <td>0</td>\n",
       "      <td>0</td>\n",
       "      <td>1</td>\n",
       "      <td>1</td>\n",
       "    </tr>\n",
       "    <tr>\n",
       "      <th>1</th>\n",
       "      <td>37</td>\n",
       "      <td>1</td>\n",
       "      <td>2</td>\n",
       "      <td>130</td>\n",
       "      <td>250</td>\n",
       "      <td>0</td>\n",
       "      <td>1</td>\n",
       "      <td>187</td>\n",
       "      <td>0</td>\n",
       "      <td>3.5</td>\n",
       "      <td>0</td>\n",
       "      <td>0</td>\n",
       "      <td>2</td>\n",
       "      <td>1</td>\n",
       "    </tr>\n",
       "    <tr>\n",
       "      <th>2</th>\n",
       "      <td>41</td>\n",
       "      <td>0</td>\n",
       "      <td>1</td>\n",
       "      <td>130</td>\n",
       "      <td>204</td>\n",
       "      <td>0</td>\n",
       "      <td>0</td>\n",
       "      <td>172</td>\n",
       "      <td>0</td>\n",
       "      <td>1.4</td>\n",
       "      <td>2</td>\n",
       "      <td>0</td>\n",
       "      <td>2</td>\n",
       "      <td>1</td>\n",
       "    </tr>\n",
       "    <tr>\n",
       "      <th>3</th>\n",
       "      <td>56</td>\n",
       "      <td>1</td>\n",
       "      <td>1</td>\n",
       "      <td>120</td>\n",
       "      <td>236</td>\n",
       "      <td>0</td>\n",
       "      <td>1</td>\n",
       "      <td>178</td>\n",
       "      <td>0</td>\n",
       "      <td>0.8</td>\n",
       "      <td>2</td>\n",
       "      <td>0</td>\n",
       "      <td>2</td>\n",
       "      <td>1</td>\n",
       "    </tr>\n",
       "    <tr>\n",
       "      <th>4</th>\n",
       "      <td>57</td>\n",
       "      <td>0</td>\n",
       "      <td>0</td>\n",
       "      <td>120</td>\n",
       "      <td>354</td>\n",
       "      <td>0</td>\n",
       "      <td>1</td>\n",
       "      <td>163</td>\n",
       "      <td>1</td>\n",
       "      <td>0.6</td>\n",
       "      <td>2</td>\n",
       "      <td>0</td>\n",
       "      <td>2</td>\n",
       "      <td>1</td>\n",
       "    </tr>\n",
       "  </tbody>\n",
       "</table>\n",
       "</div>"
      ],
      "text/plain": [
       "   age  sex  cp  trestbps  chol  fbs  restecg  thalach  exang  oldpeak  slope  \\\n",
       "0   63    1   3       145   233    1        0      150      0      2.3      0   \n",
       "1   37    1   2       130   250    0        1      187      0      3.5      0   \n",
       "2   41    0   1       130   204    0        0      172      0      1.4      2   \n",
       "3   56    1   1       120   236    0        1      178      0      0.8      2   \n",
       "4   57    0   0       120   354    0        1      163      1      0.6      2   \n",
       "\n",
       "   ca  thal  target  \n",
       "0   0     1       1  \n",
       "1   0     2       1  \n",
       "2   0     2       1  \n",
       "3   0     2       1  \n",
       "4   0     2       1  "
      ]
     },
     "execution_count": 4,
     "metadata": {},
     "output_type": "execute_result"
    }
   ],
   "source": [
    "dataset.head(5)"
   ]
  },
  {
   "cell_type": "code",
   "execution_count": 5,
   "id": "4a1eea98",
   "metadata": {},
   "outputs": [
    {
     "data": {
      "text/plain": [
       "(303, 14)"
      ]
     },
     "execution_count": 5,
     "metadata": {},
     "output_type": "execute_result"
    }
   ],
   "source": [
    "dataset.shape"
   ]
  },
  {
   "cell_type": "code",
   "execution_count": 119,
   "id": "1fdb74f2",
   "metadata": {},
   "outputs": [
    {
     "data": {
      "text/plain": [
       "array([0, 2, 1, 3, 4], dtype=int64)"
      ]
     },
     "execution_count": 119,
     "metadata": {},
     "output_type": "execute_result"
    }
   ],
   "source": [
    "dataset['ca'].unique()"
   ]
  },
  {
   "cell_type": "code",
   "execution_count": 6,
   "id": "1e4452f8",
   "metadata": {},
   "outputs": [
    {
     "data": {
      "text/html": [
       "<div>\n",
       "<style scoped>\n",
       "    .dataframe tbody tr th:only-of-type {\n",
       "        vertical-align: middle;\n",
       "    }\n",
       "\n",
       "    .dataframe tbody tr th {\n",
       "        vertical-align: top;\n",
       "    }\n",
       "\n",
       "    .dataframe thead th {\n",
       "        text-align: right;\n",
       "    }\n",
       "</style>\n",
       "<table border=\"1\" class=\"dataframe\">\n",
       "  <thead>\n",
       "    <tr style=\"text-align: right;\">\n",
       "      <th></th>\n",
       "      <th>age</th>\n",
       "      <th>sex</th>\n",
       "      <th>cp</th>\n",
       "      <th>trestbps</th>\n",
       "      <th>chol</th>\n",
       "      <th>fbs</th>\n",
       "      <th>restecg</th>\n",
       "      <th>thalach</th>\n",
       "      <th>exang</th>\n",
       "      <th>oldpeak</th>\n",
       "      <th>slope</th>\n",
       "      <th>ca</th>\n",
       "      <th>thal</th>\n",
       "      <th>target</th>\n",
       "    </tr>\n",
       "  </thead>\n",
       "  <tbody>\n",
       "    <tr>\n",
       "      <th>count</th>\n",
       "      <td>303.000000</td>\n",
       "      <td>303.000000</td>\n",
       "      <td>303.000000</td>\n",
       "      <td>303.000000</td>\n",
       "      <td>303.000000</td>\n",
       "      <td>303.000000</td>\n",
       "      <td>303.000000</td>\n",
       "      <td>303.000000</td>\n",
       "      <td>303.000000</td>\n",
       "      <td>303.000000</td>\n",
       "      <td>303.000000</td>\n",
       "      <td>303.000000</td>\n",
       "      <td>303.000000</td>\n",
       "      <td>303.000000</td>\n",
       "    </tr>\n",
       "    <tr>\n",
       "      <th>mean</th>\n",
       "      <td>54.366337</td>\n",
       "      <td>0.683168</td>\n",
       "      <td>0.966997</td>\n",
       "      <td>131.623762</td>\n",
       "      <td>246.264026</td>\n",
       "      <td>0.148515</td>\n",
       "      <td>0.528053</td>\n",
       "      <td>149.646865</td>\n",
       "      <td>0.326733</td>\n",
       "      <td>1.039604</td>\n",
       "      <td>1.399340</td>\n",
       "      <td>0.729373</td>\n",
       "      <td>2.313531</td>\n",
       "      <td>0.544554</td>\n",
       "    </tr>\n",
       "    <tr>\n",
       "      <th>std</th>\n",
       "      <td>9.082101</td>\n",
       "      <td>0.466011</td>\n",
       "      <td>1.032052</td>\n",
       "      <td>17.538143</td>\n",
       "      <td>51.830751</td>\n",
       "      <td>0.356198</td>\n",
       "      <td>0.525860</td>\n",
       "      <td>22.905161</td>\n",
       "      <td>0.469794</td>\n",
       "      <td>1.161075</td>\n",
       "      <td>0.616226</td>\n",
       "      <td>1.022606</td>\n",
       "      <td>0.612277</td>\n",
       "      <td>0.498835</td>\n",
       "    </tr>\n",
       "    <tr>\n",
       "      <th>min</th>\n",
       "      <td>29.000000</td>\n",
       "      <td>0.000000</td>\n",
       "      <td>0.000000</td>\n",
       "      <td>94.000000</td>\n",
       "      <td>126.000000</td>\n",
       "      <td>0.000000</td>\n",
       "      <td>0.000000</td>\n",
       "      <td>71.000000</td>\n",
       "      <td>0.000000</td>\n",
       "      <td>0.000000</td>\n",
       "      <td>0.000000</td>\n",
       "      <td>0.000000</td>\n",
       "      <td>0.000000</td>\n",
       "      <td>0.000000</td>\n",
       "    </tr>\n",
       "    <tr>\n",
       "      <th>25%</th>\n",
       "      <td>47.500000</td>\n",
       "      <td>0.000000</td>\n",
       "      <td>0.000000</td>\n",
       "      <td>120.000000</td>\n",
       "      <td>211.000000</td>\n",
       "      <td>0.000000</td>\n",
       "      <td>0.000000</td>\n",
       "      <td>133.500000</td>\n",
       "      <td>0.000000</td>\n",
       "      <td>0.000000</td>\n",
       "      <td>1.000000</td>\n",
       "      <td>0.000000</td>\n",
       "      <td>2.000000</td>\n",
       "      <td>0.000000</td>\n",
       "    </tr>\n",
       "    <tr>\n",
       "      <th>50%</th>\n",
       "      <td>55.000000</td>\n",
       "      <td>1.000000</td>\n",
       "      <td>1.000000</td>\n",
       "      <td>130.000000</td>\n",
       "      <td>240.000000</td>\n",
       "      <td>0.000000</td>\n",
       "      <td>1.000000</td>\n",
       "      <td>153.000000</td>\n",
       "      <td>0.000000</td>\n",
       "      <td>0.800000</td>\n",
       "      <td>1.000000</td>\n",
       "      <td>0.000000</td>\n",
       "      <td>2.000000</td>\n",
       "      <td>1.000000</td>\n",
       "    </tr>\n",
       "    <tr>\n",
       "      <th>75%</th>\n",
       "      <td>61.000000</td>\n",
       "      <td>1.000000</td>\n",
       "      <td>2.000000</td>\n",
       "      <td>140.000000</td>\n",
       "      <td>274.500000</td>\n",
       "      <td>0.000000</td>\n",
       "      <td>1.000000</td>\n",
       "      <td>166.000000</td>\n",
       "      <td>1.000000</td>\n",
       "      <td>1.600000</td>\n",
       "      <td>2.000000</td>\n",
       "      <td>1.000000</td>\n",
       "      <td>3.000000</td>\n",
       "      <td>1.000000</td>\n",
       "    </tr>\n",
       "    <tr>\n",
       "      <th>max</th>\n",
       "      <td>77.000000</td>\n",
       "      <td>1.000000</td>\n",
       "      <td>3.000000</td>\n",
       "      <td>200.000000</td>\n",
       "      <td>564.000000</td>\n",
       "      <td>1.000000</td>\n",
       "      <td>2.000000</td>\n",
       "      <td>202.000000</td>\n",
       "      <td>1.000000</td>\n",
       "      <td>6.200000</td>\n",
       "      <td>2.000000</td>\n",
       "      <td>4.000000</td>\n",
       "      <td>3.000000</td>\n",
       "      <td>1.000000</td>\n",
       "    </tr>\n",
       "  </tbody>\n",
       "</table>\n",
       "</div>"
      ],
      "text/plain": [
       "              age         sex          cp    trestbps        chol         fbs  \\\n",
       "count  303.000000  303.000000  303.000000  303.000000  303.000000  303.000000   \n",
       "mean    54.366337    0.683168    0.966997  131.623762  246.264026    0.148515   \n",
       "std      9.082101    0.466011    1.032052   17.538143   51.830751    0.356198   \n",
       "min     29.000000    0.000000    0.000000   94.000000  126.000000    0.000000   \n",
       "25%     47.500000    0.000000    0.000000  120.000000  211.000000    0.000000   \n",
       "50%     55.000000    1.000000    1.000000  130.000000  240.000000    0.000000   \n",
       "75%     61.000000    1.000000    2.000000  140.000000  274.500000    0.000000   \n",
       "max     77.000000    1.000000    3.000000  200.000000  564.000000    1.000000   \n",
       "\n",
       "          restecg     thalach       exang     oldpeak       slope          ca  \\\n",
       "count  303.000000  303.000000  303.000000  303.000000  303.000000  303.000000   \n",
       "mean     0.528053  149.646865    0.326733    1.039604    1.399340    0.729373   \n",
       "std      0.525860   22.905161    0.469794    1.161075    0.616226    1.022606   \n",
       "min      0.000000   71.000000    0.000000    0.000000    0.000000    0.000000   \n",
       "25%      0.000000  133.500000    0.000000    0.000000    1.000000    0.000000   \n",
       "50%      1.000000  153.000000    0.000000    0.800000    1.000000    0.000000   \n",
       "75%      1.000000  166.000000    1.000000    1.600000    2.000000    1.000000   \n",
       "max      2.000000  202.000000    1.000000    6.200000    2.000000    4.000000   \n",
       "\n",
       "             thal      target  \n",
       "count  303.000000  303.000000  \n",
       "mean     2.313531    0.544554  \n",
       "std      0.612277    0.498835  \n",
       "min      0.000000    0.000000  \n",
       "25%      2.000000    0.000000  \n",
       "50%      2.000000    1.000000  \n",
       "75%      3.000000    1.000000  \n",
       "max      3.000000    1.000000  "
      ]
     },
     "execution_count": 6,
     "metadata": {},
     "output_type": "execute_result"
    }
   ],
   "source": [
    "dataset.describe()"
   ]
  },
  {
   "cell_type": "code",
   "execution_count": 7,
   "id": "0297fc6f",
   "metadata": {},
   "outputs": [
    {
     "name": "stdout",
     "output_type": "stream",
     "text": [
      "<class 'pandas.core.frame.DataFrame'>\n",
      "RangeIndex: 303 entries, 0 to 302\n",
      "Data columns (total 14 columns):\n",
      " #   Column    Non-Null Count  Dtype  \n",
      "---  ------    --------------  -----  \n",
      " 0   age       303 non-null    int64  \n",
      " 1   sex       303 non-null    int64  \n",
      " 2   cp        303 non-null    int64  \n",
      " 3   trestbps  303 non-null    int64  \n",
      " 4   chol      303 non-null    int64  \n",
      " 5   fbs       303 non-null    int64  \n",
      " 6   restecg   303 non-null    int64  \n",
      " 7   thalach   303 non-null    int64  \n",
      " 8   exang     303 non-null    int64  \n",
      " 9   oldpeak   303 non-null    float64\n",
      " 10  slope     303 non-null    int64  \n",
      " 11  ca        303 non-null    int64  \n",
      " 12  thal      303 non-null    int64  \n",
      " 13  target    303 non-null    int64  \n",
      "dtypes: float64(1), int64(13)\n",
      "memory usage: 33.3 KB\n"
     ]
    }
   ],
   "source": [
    "dataset.info()"
   ]
  },
  {
   "cell_type": "code",
   "execution_count": 8,
   "id": "3936184c",
   "metadata": {},
   "outputs": [
    {
     "data": {
      "text/plain": [
       "age         0\n",
       "sex         0\n",
       "cp          0\n",
       "trestbps    0\n",
       "chol        0\n",
       "fbs         0\n",
       "restecg     0\n",
       "thalach     0\n",
       "exang       0\n",
       "oldpeak     0\n",
       "slope       0\n",
       "ca          0\n",
       "thal        0\n",
       "target      0\n",
       "dtype: int64"
      ]
     },
     "execution_count": 8,
     "metadata": {},
     "output_type": "execute_result"
    }
   ],
   "source": [
    "dataset.isnull().sum()"
   ]
  },
  {
   "cell_type": "code",
   "execution_count": 9,
   "id": "0a12f731",
   "metadata": {},
   "outputs": [
    {
     "name": "stdout",
     "output_type": "stream",
     "text": [
      "Categorical variables: 0\n",
      "Integer variables: 13\n",
      "Float variables: 1\n"
     ]
    }
   ],
   "source": [
    "obj = (dataset.dtypes == 'object')\n",
    "object_cols = list(obj[obj].index)\n",
    "print(\"Categorical variables:\",len(object_cols))\n",
    "\n",
    "int_ = (dataset.dtypes == 'int64')\n",
    "num_cols = list(int_[int_].index)\n",
    "print(\"Integer variables:\",len(num_cols))\n",
    "\n",
    "fl = (dataset.dtypes == 'float')\n",
    "fl_cols = list(fl[fl].index)\n",
    "print(\"Float variables:\",len(fl_cols))"
   ]
  },
  {
   "cell_type": "code",
   "execution_count": 10,
   "id": "709ec2b4",
   "metadata": {},
   "outputs": [
    {
     "name": "stdout",
     "output_type": "stream",
     "text": [
      "target      1.000000\n",
      "exang       0.436757\n",
      "cp          0.433798\n",
      "oldpeak     0.430696\n",
      "thalach     0.421741\n",
      "ca          0.391724\n",
      "slope       0.345877\n",
      "thal        0.344029\n",
      "sex         0.280937\n",
      "age         0.225439\n",
      "trestbps    0.144931\n",
      "restecg     0.137230\n",
      "chol        0.085239\n",
      "fbs         0.028046\n",
      "Name: target, dtype: float64\n"
     ]
    }
   ],
   "source": [
    "print(dataset.corr()[\"target\"].abs().sort_values(ascending=False))"
   ]
  },
  {
   "cell_type": "markdown",
   "id": "a166c670",
   "metadata": {},
   "source": [
    "### Train Test Split"
   ]
  },
  {
   "cell_type": "code",
   "execution_count": 11,
   "id": "89b9514b",
   "metadata": {},
   "outputs": [],
   "source": [
    "x = dataset.drop(\"target\",axis=1)\n",
    "y = dataset[\"target\"]\n",
    "\n",
    "X_train,X_test,Y_train,Y_test = train_test_split(x,y,test_size=0.20,random_state=0)"
   ]
  },
  {
   "cell_type": "code",
   "execution_count": 12,
   "id": "98cb8024",
   "metadata": {},
   "outputs": [
    {
     "data": {
      "text/plain": [
       "(242, 13)"
      ]
     },
     "execution_count": 12,
     "metadata": {},
     "output_type": "execute_result"
    }
   ],
   "source": [
    "X_train.shape"
   ]
  },
  {
   "cell_type": "code",
   "execution_count": 13,
   "id": "00adaa6c",
   "metadata": {},
   "outputs": [
    {
     "data": {
      "text/plain": [
       "(61, 13)"
      ]
     },
     "execution_count": 13,
     "metadata": {},
     "output_type": "execute_result"
    }
   ],
   "source": [
    "X_test.shape"
   ]
  },
  {
   "cell_type": "markdown",
   "id": "8b5215ea",
   "metadata": {},
   "source": [
    "### Model fitting"
   ]
  },
  {
   "cell_type": "markdown",
   "id": "8aa57fb3",
   "metadata": {},
   "source": [
    "#### Logistic Regression"
   ]
  },
  {
   "cell_type": "code",
   "execution_count": 34,
   "id": "424fb76c",
   "metadata": {},
   "outputs": [],
   "source": [
    "from sklearn.linear_model import LogisticRegression\n",
    "solvers = ['newton-cg', 'lbfgs', 'liblinear']\n",
    "penalty = ['l2']\n",
    "c_values = [100, 10, 1.0, 0.1, 0.01]"
   ]
  },
  {
   "cell_type": "code",
   "execution_count": 91,
   "id": "d1b42121",
   "metadata": {},
   "outputs": [
    {
     "name": "stdout",
     "output_type": "stream",
     "text": [
      "The accuracy score achieved using the parameter ['newton-cg', 100] is: 85.24590163934425 %\n",
      "The accuracy score achieved using the parameter ['newton-cg', 10] is: 85.24590163934425 %\n",
      "The accuracy score achieved using the parameter ['newton-cg', 1.0] is: 85.24590163934425 %\n",
      "The accuracy score achieved using the parameter ['newton-cg', 0.1] is: 85.24590163934425 %\n",
      "The accuracy score achieved using the parameter ['newton-cg', 0.01] is: 80.32786885245902 %\n",
      "The accuracy score achieved using the parameter ['lbfgs', 100] is: 85.24590163934425 %\n",
      "The accuracy score achieved using the parameter ['lbfgs', 10] is: 85.24590163934425 %\n",
      "The accuracy score achieved using the parameter ['lbfgs', 1.0] is: 85.24590163934425 %\n",
      "The accuracy score achieved using the parameter ['lbfgs', 0.1] is: 85.24590163934425 %\n",
      "The accuracy score achieved using the parameter ['lbfgs', 0.01] is: 80.32786885245902 %\n",
      "The accuracy score achieved using the parameter ['liblinear', 100] is: 83.60655737704919 %\n",
      "The accuracy score achieved using the parameter ['liblinear', 10] is: 83.60655737704919 %\n",
      "The accuracy score achieved using the parameter ['liblinear', 1.0] is: 85.24590163934425 %\n",
      "The accuracy score achieved using the parameter ['liblinear', 0.1] is: 85.24590163934425 %\n",
      "The accuracy score achieved using the parameter ['liblinear', 0.01] is: 80.32786885245902 %\n"
     ]
    }
   ],
   "source": [
    "for i in solvers:\n",
    "    for j in c_values:\n",
    "        lr2 = LogisticRegression(solver=i, penalty='l2',  C=j)\n",
    "        lr2.fit(X_train, Y_train)\n",
    "        Y_pred_lr2 = lr2.predict(X_test)\n",
    "        score_lr2 = accuracy_score(Y_pred_lr2,Y_test)*100\n",
    "        print(\"The accuracy score achieved using the parameter \"+str([i, j])+\" is: \"+str(score_lr2)+\" %\")\n",
    "lr = LogisticRegression(solver='liblinear', penalty='l2', C=0.1)\n",
    "lr.fit(X_train, Y_train)\n",
    "Y_pred_lr = lr.predict(X_test)"
   ]
  },
  {
   "cell_type": "code",
   "execution_count": 103,
   "id": "cdbbf36c",
   "metadata": {},
   "outputs": [
    {
     "name": "stdout",
     "output_type": "stream",
     "text": [
      "85.24590163934425\n"
     ]
    }
   ],
   "source": [
    "score_lr = accuracy_score(Y_pred_lr,Y_test)*100\n",
    "print(score_lr)"
   ]
  },
  {
   "cell_type": "markdown",
   "id": "fef1fffa",
   "metadata": {},
   "source": [
    "#### SVM"
   ]
  },
  {
   "cell_type": "code",
   "execution_count": 74,
   "id": "bf65eba4",
   "metadata": {},
   "outputs": [],
   "source": [
    "from sklearn.svm import SVC\n",
    "kernel = ['linear', 'poly', 'rbf', 'sigmoid']\n",
    "C = [50, 10, 1.0, 0.1, 0.01]\n",
    "gamma = ['scale']"
   ]
  },
  {
   "cell_type": "code",
   "execution_count": 92,
   "id": "72b8cfb6",
   "metadata": {},
   "outputs": [
    {
     "name": "stdout",
     "output_type": "stream",
     "text": [
      "The accuracy score achieved using the parameters ['linear', 50] is: 86.88524590163934 %\n",
      "The accuracy score achieved using the parameters ['linear', 10] is: 83.60655737704919 %\n",
      "The accuracy score achieved using the parameters ['linear', 1.0] is: 81.9672131147541 %\n",
      "The accuracy score achieved using the parameters ['linear', 0.1] is: 83.60655737704919 %\n",
      "The accuracy score achieved using the parameters ['linear', 0.01] is: 86.88524590163934 %\n",
      "The accuracy score achieved using the parameters ['poly', 50] is: 78.68852459016394 %\n",
      "The accuracy score achieved using the parameters ['poly', 10] is: 77.04918032786885 %\n",
      "The accuracy score achieved using the parameters ['poly', 1.0] is: 72.1311475409836 %\n",
      "The accuracy score achieved using the parameters ['poly', 0.1] is: 55.73770491803278 %\n",
      "The accuracy score achieved using the parameters ['poly', 0.01] is: 55.73770491803278 %\n",
      "The accuracy score achieved using the parameters ['rbf', 50] is: 75.40983606557377 %\n",
      "The accuracy score achieved using the parameters ['rbf', 10] is: 70.49180327868852 %\n",
      "The accuracy score achieved using the parameters ['rbf', 1.0] is: 68.85245901639344 %\n",
      "The accuracy score achieved using the parameters ['rbf', 0.1] is: 55.73770491803278 %\n",
      "The accuracy score achieved using the parameters ['rbf', 0.01] is: 55.73770491803278 %\n",
      "The accuracy score achieved using the parameters ['sigmoid', 50] is: 54.09836065573771 %\n",
      "The accuracy score achieved using the parameters ['sigmoid', 10] is: 55.73770491803278 %\n",
      "The accuracy score achieved using the parameters ['sigmoid', 1.0] is: 55.73770491803278 %\n",
      "The accuracy score achieved using the parameters ['sigmoid', 0.1] is: 55.73770491803278 %\n",
      "The accuracy score achieved using the parameters ['sigmoid', 0.01] is: 55.73770491803278 %\n"
     ]
    }
   ],
   "source": [
    "for i in kernel:\n",
    "    for j in C:\n",
    "        sv2 = SVC(kernel=i, gamma='scale',  C=j)\n",
    "        sv2.fit(X_train, Y_train)\n",
    "        Y_pred_sv2 = sv2.predict(X_test)\n",
    "        score_sv2 = accuracy_score(Y_pred_sv2,Y_test)*100\n",
    "        print(\"The accuracy score achieved using the parameters \"+str([i, j])+\" is: \"+str(score_sv2)+\" %\")\n",
    "sv = SVC(kernel='linear', gamma='scale', C=50)\n",
    "sv.fit(X_train, Y_train)\n",
    "Y_pred_sv = sv.predict(X_test)"
   ]
  },
  {
   "cell_type": "code",
   "execution_count": 104,
   "id": "bca6dbd3",
   "metadata": {},
   "outputs": [
    {
     "name": "stdout",
     "output_type": "stream",
     "text": [
      "86.88524590163934\n"
     ]
    }
   ],
   "source": [
    "score_sv = accuracy_score(Y_pred_sv,Y_test)*100\n",
    "print(score_sv)"
   ]
  },
  {
   "cell_type": "markdown",
   "id": "d85694db",
   "metadata": {},
   "source": [
    "#### KNN"
   ]
  },
  {
   "cell_type": "code",
   "execution_count": 81,
   "id": "0466b003",
   "metadata": {},
   "outputs": [],
   "source": [
    "from sklearn.neighbors import KNeighborsClassifier\n",
    "n_neighbors = range(1, 21, 2)\n",
    "weights = ['uniform', 'distance']\n",
    "metric = ['euclidean', 'manhattan', 'minkowski']"
   ]
  },
  {
   "cell_type": "code",
   "execution_count": 90,
   "id": "a90effd2",
   "metadata": {},
   "outputs": [
    {
     "name": "stdout",
     "output_type": "stream",
     "text": [
      "The accuracy score achieved the parameters ['euclidean', 'uniform', 1] is: 52.459016393442624 %\n",
      "The accuracy score achieved the parameters ['euclidean', 'uniform', 3] is: 63.934426229508205 %\n",
      "The accuracy score achieved the parameters ['euclidean', 'uniform', 5] is: 63.934426229508205 %\n",
      "The accuracy score achieved the parameters ['euclidean', 'uniform', 7] is: 67.21311475409836 %\n",
      "The accuracy score achieved the parameters ['euclidean', 'uniform', 9] is: 67.21311475409836 %\n",
      "The accuracy score achieved the parameters ['euclidean', 'uniform', 11] is: 70.49180327868852 %\n",
      "The accuracy score achieved the parameters ['euclidean', 'uniform', 13] is: 72.1311475409836 %\n",
      "The accuracy score achieved the parameters ['euclidean', 'uniform', 15] is: 67.21311475409836 %\n",
      "The accuracy score achieved the parameters ['euclidean', 'uniform', 17] is: 72.1311475409836 %\n",
      "The accuracy score achieved the parameters ['euclidean', 'uniform', 19] is: 70.49180327868852 %\n",
      "The accuracy score achieved the parameters ['euclidean', 'distance', 1] is: 52.459016393442624 %\n",
      "The accuracy score achieved the parameters ['euclidean', 'distance', 3] is: 63.934426229508205 %\n",
      "The accuracy score achieved the parameters ['euclidean', 'distance', 5] is: 62.295081967213115 %\n",
      "The accuracy score achieved the parameters ['euclidean', 'distance', 7] is: 65.57377049180327 %\n",
      "The accuracy score achieved the parameters ['euclidean', 'distance', 9] is: 63.934426229508205 %\n",
      "The accuracy score achieved the parameters ['euclidean', 'distance', 11] is: 65.57377049180327 %\n",
      "The accuracy score achieved the parameters ['euclidean', 'distance', 13] is: 67.21311475409836 %\n",
      "The accuracy score achieved the parameters ['euclidean', 'distance', 15] is: 67.21311475409836 %\n",
      "The accuracy score achieved the parameters ['euclidean', 'distance', 17] is: 63.934426229508205 %\n",
      "The accuracy score achieved the parameters ['euclidean', 'distance', 19] is: 65.57377049180327 %\n",
      "The accuracy score achieved the parameters ['manhattan', 'uniform', 1] is: 60.65573770491803 %\n",
      "The accuracy score achieved the parameters ['manhattan', 'uniform', 3] is: 65.57377049180327 %\n",
      "The accuracy score achieved the parameters ['manhattan', 'uniform', 5] is: 68.85245901639344 %\n",
      "The accuracy score achieved the parameters ['manhattan', 'uniform', 7] is: 70.49180327868852 %\n",
      "The accuracy score achieved the parameters ['manhattan', 'uniform', 9] is: 72.1311475409836 %\n",
      "The accuracy score achieved the parameters ['manhattan', 'uniform', 11] is: 73.77049180327869 %\n",
      "The accuracy score achieved the parameters ['manhattan', 'uniform', 13] is: 70.49180327868852 %\n",
      "The accuracy score achieved the parameters ['manhattan', 'uniform', 15] is: 72.1311475409836 %\n",
      "The accuracy score achieved the parameters ['manhattan', 'uniform', 17] is: 70.49180327868852 %\n",
      "The accuracy score achieved the parameters ['manhattan', 'uniform', 19] is: 72.1311475409836 %\n",
      "The accuracy score achieved the parameters ['manhattan', 'distance', 1] is: 60.65573770491803 %\n",
      "The accuracy score achieved the parameters ['manhattan', 'distance', 3] is: 63.934426229508205 %\n",
      "The accuracy score achieved the parameters ['manhattan', 'distance', 5] is: 67.21311475409836 %\n",
      "The accuracy score achieved the parameters ['manhattan', 'distance', 7] is: 68.85245901639344 %\n",
      "The accuracy score achieved the parameters ['manhattan', 'distance', 9] is: 70.49180327868852 %\n",
      "The accuracy score achieved the parameters ['manhattan', 'distance', 11] is: 72.1311475409836 %\n",
      "The accuracy score achieved the parameters ['manhattan', 'distance', 13] is: 70.49180327868852 %\n",
      "The accuracy score achieved the parameters ['manhattan', 'distance', 15] is: 73.77049180327869 %\n",
      "The accuracy score achieved the parameters ['manhattan', 'distance', 17] is: 72.1311475409836 %\n",
      "The accuracy score achieved the parameters ['manhattan', 'distance', 19] is: 73.77049180327869 %\n",
      "The accuracy score achieved the parameters ['minkowski', 'uniform', 1] is: 52.459016393442624 %\n",
      "The accuracy score achieved the parameters ['minkowski', 'uniform', 3] is: 63.934426229508205 %\n",
      "The accuracy score achieved the parameters ['minkowski', 'uniform', 5] is: 63.934426229508205 %\n",
      "The accuracy score achieved the parameters ['minkowski', 'uniform', 7] is: 67.21311475409836 %\n",
      "The accuracy score achieved the parameters ['minkowski', 'uniform', 9] is: 67.21311475409836 %\n",
      "The accuracy score achieved the parameters ['minkowski', 'uniform', 11] is: 70.49180327868852 %\n",
      "The accuracy score achieved the parameters ['minkowski', 'uniform', 13] is: 72.1311475409836 %\n",
      "The accuracy score achieved the parameters ['minkowski', 'uniform', 15] is: 67.21311475409836 %\n",
      "The accuracy score achieved the parameters ['minkowski', 'uniform', 17] is: 72.1311475409836 %\n",
      "The accuracy score achieved the parameters ['minkowski', 'uniform', 19] is: 70.49180327868852 %\n",
      "The accuracy score achieved the parameters ['minkowski', 'distance', 1] is: 52.459016393442624 %\n",
      "The accuracy score achieved the parameters ['minkowski', 'distance', 3] is: 63.934426229508205 %\n",
      "The accuracy score achieved the parameters ['minkowski', 'distance', 5] is: 62.295081967213115 %\n",
      "The accuracy score achieved the parameters ['minkowski', 'distance', 7] is: 65.57377049180327 %\n",
      "The accuracy score achieved the parameters ['minkowski', 'distance', 9] is: 63.934426229508205 %\n",
      "The accuracy score achieved the parameters ['minkowski', 'distance', 11] is: 65.57377049180327 %\n",
      "The accuracy score achieved the parameters ['minkowski', 'distance', 13] is: 67.21311475409836 %\n",
      "The accuracy score achieved the parameters ['minkowski', 'distance', 15] is: 67.21311475409836 %\n",
      "The accuracy score achieved the parameters ['minkowski', 'distance', 17] is: 63.934426229508205 %\n",
      "The accuracy score achieved the parameters ['minkowski', 'distance', 19] is: 65.57377049180327 %\n"
     ]
    }
   ],
   "source": [
    "for i in metric:\n",
    "    for j in weights:\n",
    "        for k in n_neighbors:\n",
    "            knn2 = KNeighborsClassifier(n_neighbors=k, metric=i, weights=j)\n",
    "            knn2.fit(X_train, Y_train)\n",
    "            Y_pred_knn2 = knn2.predict(X_test)\n",
    "            score_knn2 = accuracy_score(Y_pred_knn2,Y_test)*100\n",
    "            print(\"The accuracy score achieved the parameters \"+str([i, j, k])+\" is: \"+str(score_knn2)+\" %\")"
   ]
  },
  {
   "cell_type": "code",
   "execution_count": 105,
   "id": "7a1a1223",
   "metadata": {},
   "outputs": [
    {
     "name": "stdout",
     "output_type": "stream",
     "text": [
      "73.77049180327869\n"
     ]
    }
   ],
   "source": [
    "knn = KNeighborsClassifier(n_neighbors=15, metric='manhattan', weights='distance')\n",
    "knn.fit(X_train, Y_train)\n",
    "Y_pred_knn = knn.predict(X_test)\n",
    "score_knn = accuracy_score(Y_pred_knn,Y_test)*100\n",
    "print(score_knn)"
   ]
  },
  {
   "cell_type": "markdown",
   "id": "4ceb7f6f",
   "metadata": {},
   "source": [
    "#### Random Forest"
   ]
  },
  {
   "cell_type": "code",
   "execution_count": 93,
   "id": "e5b1c03a",
   "metadata": {},
   "outputs": [],
   "source": [
    "from sklearn.ensemble import RandomForestClassifier\n",
    "n_estimators = [10, 100, 1000]\n",
    "max_features = ['sqrt', 'log2']"
   ]
  },
  {
   "cell_type": "code",
   "execution_count": 99,
   "id": "2d732c36",
   "metadata": {},
   "outputs": [
    {
     "name": "stdout",
     "output_type": "stream",
     "text": [
      "The accuracy score achieved using the parameter ['sqrt', 10] is: 83.60655737704919 %\n",
      "The accuracy score achieved using the parameter ['sqrt', 100] is: 85.24590163934425 %\n",
      "The accuracy score achieved using the parameter ['sqrt', 1000] is: 85.24590163934425 %\n",
      "The accuracy score achieved using the parameter ['log2', 10] is: 83.60655737704919 %\n",
      "The accuracy score achieved using the parameter ['log2', 100] is: 85.24590163934425 %\n",
      "The accuracy score achieved using the parameter ['log2', 1000] is: 86.88524590163934 %\n"
     ]
    }
   ],
   "source": [
    "for i in max_features:\n",
    "    for j in n_estimators:\n",
    "        rf2 = RandomForestClassifier(n_estimators=j, max_features=i)\n",
    "        rf2.fit(X_train, Y_train)\n",
    "        Y_pred_rf2 = rf2.predict(X_test)\n",
    "        score_rf2 = accuracy_score(Y_pred_rf2,Y_test)*100\n",
    "        print(\"The accuracy score achieved using the parameter \"+str([i, j])+\" is: \"+str(score_rf2)+\" %\")"
   ]
  },
  {
   "cell_type": "code",
   "execution_count": 96,
   "id": "3d9465e3",
   "metadata": {},
   "outputs": [
    {
     "name": "stdout",
     "output_type": "stream",
     "text": [
      "323\n"
     ]
    }
   ],
   "source": [
    "from sklearn.ensemble import RandomForestClassifier\n",
    "\n",
    "max_accuracy = 0\n",
    "\n",
    "\n",
    "for x in range(2000):\n",
    "    rf = RandomForestClassifier(random_state=x)\n",
    "    rf.fit(X_train,Y_train)\n",
    "    Y_pred_rf = rf.predict(X_test)\n",
    "    current_accuracy = round(accuracy_score(Y_pred_rf,Y_test)*100,2)\n",
    "    if(current_accuracy>max_accuracy):\n",
    "        max_accuracy = current_accuracy\n",
    "        best_x = x\n",
    "        \n",
    "#print(max_accuracy)\n",
    "print(best_x)\n",
    "\n",
    "rf = RandomForestClassifier(random_state=best_x)\n",
    "rf.fit(X_train,Y_train)\n",
    "Y_pred_rf = rf.predict(X_test)"
   ]
  },
  {
   "cell_type": "code",
   "execution_count": 109,
   "id": "bcf1f3de",
   "metadata": {},
   "outputs": [
    {
     "name": "stdout",
     "output_type": "stream",
     "text": [
      "The accuracy score achieved using Decision Tree is: 90.1639344262295 %\n"
     ]
    }
   ],
   "source": [
    "score_rf = accuracy_score(Y_pred_rf,Y_test)*100\n",
    "print(\"The accuracy score achieved using Decision Tree is: \"+str(score_rf)+\" %\")"
   ]
  },
  {
   "cell_type": "code",
   "execution_count": 108,
   "id": "ca2452a1",
   "metadata": {},
   "outputs": [
    {
     "name": "stdout",
     "output_type": "stream",
     "text": [
      "90.1639344262295\n"
     ]
    }
   ],
   "source": [
    "rf2 = RandomForestClassifier(n_estimators=100, max_features='log2', random_state=323)\n",
    "rf2.fit(X_train,Y_train)\n",
    "Y_pred_rf2 = rf2.predict(X_test)\n",
    "score_rf2 = accuracy_score(Y_pred_rf2,Y_test)*100\n",
    "print(score_rf2)"
   ]
  },
  {
   "cell_type": "markdown",
   "id": "08cf3522",
   "metadata": {},
   "source": [
    "### Final Output"
   ]
  },
  {
   "cell_type": "code",
   "execution_count": 110,
   "id": "e17b08c0",
   "metadata": {},
   "outputs": [
    {
     "name": "stdout",
     "output_type": "stream",
     "text": [
      "The accuracy score achieved using Logistic Regression is: 85.24590163934425 %\n",
      "The accuracy score achieved using SVM Algorithm is: 86.88524590163934 %\n",
      "The accuracy score achieved using KNN Algorithm is: 73.77049180327869 %\n",
      "The accuracy score achieved using Random Forest is: 90.1639344262295 %\n"
     ]
    }
   ],
   "source": [
    "scores = [score_lr,score_sv,score_knn,score_rf]\n",
    "algorithms = [\"Logistic Regression\",\"SVM Algorithm\",\"KNN Algorithm\",\"Random Forest\"]    \n",
    "\n",
    "for i in range(len(algorithms)):\n",
    "    print(\"The accuracy score achieved using \"+algorithms[i]+\" is: \"+str(scores[i])+\" %\")"
   ]
  },
  {
   "cell_type": "code",
   "execution_count": 111,
   "id": "4093abd0",
   "metadata": {},
   "outputs": [
    {
     "data": {
      "text/plain": [
       "<AxesSubplot:xlabel='Algorithms', ylabel='Accuracy score'>"
      ]
     },
     "execution_count": 111,
     "metadata": {},
     "output_type": "execute_result"
    },
    {
     "data": {
      "image/png": "[encoded data removed]",
      "text/plain": [
       "<Figure size 1080x576 with 1 Axes>"
      ]
     },
     "metadata": {},
     "output_type": "display_data"
    }
   ],
   "source": [
    "sns.set(rc={'figure.figsize':(15,8)})\n",
    "plt.xlabel(\"Algorithms\")\n",
    "plt.ylabel(\"Accuracy score\")\n",
    "\n",
    "sns.barplot(algorithms,scores)"
   ]
  },
  {
   "cell_type": "code",
   "execution_count": null,
   "id": "7471c93d",
   "metadata": {},
   "outputs": [],
   "source": [
    "# import pickle\n",
    "# with open('model_rf', 'wb') as files:\n",
    "#     pickle.dump(rf,files)"
   ]
  }
 ],
 "metadata": {
  "kernelspec": {
   "display_name": "Python 3",
   "language": "python",
   "name": "python3"
  },
  "language_info": {
   "codemirror_mode": {
    "name": "ipython",
    "version": 3
   },
   "file_extension": ".py",
   "mimetype": "text/x-python",
   "name": "python",
   "nbconvert_exporter": "python",
   "pygments_lexer": "ipython3",
   "version": "3.8.8"
  }
 },
 "nbformat": 4,
 "nbformat_minor": 5
}
